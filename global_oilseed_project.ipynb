{
 "cells": [
  {
   "cell_type": "markdown",
   "metadata": {},
   "source": [
    "# Global Oilseed Supply from 2012-2022\n",
    "\n",
    "This data was pulled from the United States Department of Agriculture Foreign Agriculture Service (USDA FSA) Production, Supply and Distribution (PSD) online database using the custom query to create an Excel document that was then converted to a CSV file. This data can be found at the USAID FSA PSD at https://apps.fas.usda.gov/psdonline/app/index.html#/app/home."
   ]
  },
  {
   "cell_type": "code",
   "execution_count": 3,
   "metadata": {},
   "outputs": [],
   "source": [
    "import pandas as pd\n",
    "import numpy as np\n",
    "import matplotlib as plt\n",
    "import seaborn as sns\n",
    "\n",
    "%matplotlib inline"
   ]
  },
  {
   "cell_type": "markdown",
   "metadata": {},
   "source": [
    "Reading the CSV file and printing it shows that there are over 5000 rows and 9 columns for the 10 years."
   ]
  },
  {
   "cell_type": "code",
   "execution_count": 4,
   "metadata": {},
   "outputs": [
    {
     "data": {
      "text/html": [
       "<div>\n",
       "<style scoped>\n",
       "    .dataframe tbody tr th:only-of-type {\n",
       "        vertical-align: middle;\n",
       "    }\n",
       "\n",
       "    .dataframe tbody tr th {\n",
       "        vertical-align: top;\n",
       "    }\n",
       "\n",
       "    .dataframe thead th {\n",
       "        text-align: right;\n",
       "    }\n",
       "</style>\n",
       "<table border=\"1\" class=\"dataframe\">\n",
       "  <thead>\n",
       "    <tr style=\"text-align: right;\">\n",
       "      <th></th>\n",
       "      <th>Attribute</th>\n",
       "      <th>Year</th>\n",
       "      <th>Country</th>\n",
       "      <th>Oilseed, Peanut</th>\n",
       "      <th>Oilseed, Rapeseed</th>\n",
       "      <th>Oilseed, Soybean</th>\n",
       "      <th>Oilseed, Soybean (Local)</th>\n",
       "      <th>Oilseed, Sunflowerseed</th>\n",
       "      <th>Unit Description</th>\n",
       "    </tr>\n",
       "  </thead>\n",
       "  <tbody>\n",
       "    <tr>\n",
       "      <th>0</th>\n",
       "      <td>Beginning Stocks</td>\n",
       "      <td>2012/2013</td>\n",
       "      <td>Argentina</td>\n",
       "      <td>269</td>\n",
       "      <td>0</td>\n",
       "      <td>14,338</td>\n",
       "      <td>2,679</td>\n",
       "      <td>369</td>\n",
       "      <td>(1000 MT)</td>\n",
       "    </tr>\n",
       "    <tr>\n",
       "      <th>1</th>\n",
       "      <td>Beginning Stocks</td>\n",
       "      <td>2012/2013</td>\n",
       "      <td>Australia</td>\n",
       "      <td>0</td>\n",
       "      <td>572</td>\n",
       "      <td>3</td>\n",
       "      <td>0</td>\n",
       "      <td>0</td>\n",
       "      <td>(1000 MT)</td>\n",
       "    </tr>\n",
       "    <tr>\n",
       "      <th>2</th>\n",
       "      <td>Beginning Stocks</td>\n",
       "      <td>2012/2013</td>\n",
       "      <td>Bangladesh</td>\n",
       "      <td>0</td>\n",
       "      <td>152</td>\n",
       "      <td>30</td>\n",
       "      <td>0</td>\n",
       "      <td>0</td>\n",
       "      <td>(1000 MT)</td>\n",
       "    </tr>\n",
       "    <tr>\n",
       "      <th>3</th>\n",
       "      <td>Beginning Stocks</td>\n",
       "      <td>2012/2013</td>\n",
       "      <td>Barbados</td>\n",
       "      <td>0</td>\n",
       "      <td>0</td>\n",
       "      <td>5</td>\n",
       "      <td>0</td>\n",
       "      <td>0</td>\n",
       "      <td>(1000 MT)</td>\n",
       "    </tr>\n",
       "    <tr>\n",
       "      <th>4</th>\n",
       "      <td>Beginning Stocks</td>\n",
       "      <td>2012/2013</td>\n",
       "      <td>Belarus</td>\n",
       "      <td>0</td>\n",
       "      <td>0</td>\n",
       "      <td>0</td>\n",
       "      <td>0</td>\n",
       "      <td>0</td>\n",
       "      <td>(1000 MT)</td>\n",
       "    </tr>\n",
       "    <tr>\n",
       "      <th>...</th>\n",
       "      <td>...</td>\n",
       "      <td>...</td>\n",
       "      <td>...</td>\n",
       "      <td>...</td>\n",
       "      <td>...</td>\n",
       "      <td>...</td>\n",
       "      <td>...</td>\n",
       "      <td>...</td>\n",
       "      <td>...</td>\n",
       "    </tr>\n",
       "    <tr>\n",
       "      <th>5551</th>\n",
       "      <td>Ending Stocks</td>\n",
       "      <td>2022/2023</td>\n",
       "      <td>Uzbekistan</td>\n",
       "      <td>0</td>\n",
       "      <td>0</td>\n",
       "      <td>3</td>\n",
       "      <td>0</td>\n",
       "      <td>19</td>\n",
       "      <td>(1000 MT)</td>\n",
       "    </tr>\n",
       "    <tr>\n",
       "      <th>5552</th>\n",
       "      <td>Ending Stocks</td>\n",
       "      <td>2022/2023</td>\n",
       "      <td>Venezuela</td>\n",
       "      <td>0</td>\n",
       "      <td>0</td>\n",
       "      <td>2</td>\n",
       "      <td>0</td>\n",
       "      <td>0</td>\n",
       "      <td>(1000 MT)</td>\n",
       "    </tr>\n",
       "    <tr>\n",
       "      <th>5553</th>\n",
       "      <td>Ending Stocks</td>\n",
       "      <td>2022/2023</td>\n",
       "      <td>Vietnam</td>\n",
       "      <td>39</td>\n",
       "      <td>0</td>\n",
       "      <td>392</td>\n",
       "      <td>0</td>\n",
       "      <td>0</td>\n",
       "      <td>(1000 MT)</td>\n",
       "    </tr>\n",
       "    <tr>\n",
       "      <th>5554</th>\n",
       "      <td>Ending Stocks</td>\n",
       "      <td>2022/2023</td>\n",
       "      <td>Zambia</td>\n",
       "      <td>8</td>\n",
       "      <td>0</td>\n",
       "      <td>32</td>\n",
       "      <td>0</td>\n",
       "      <td>0</td>\n",
       "      <td>(1000 MT)</td>\n",
       "    </tr>\n",
       "    <tr>\n",
       "      <th>5555</th>\n",
       "      <td>Ending Stocks</td>\n",
       "      <td>2022/2023</td>\n",
       "      <td>Zimbabwe</td>\n",
       "      <td>4</td>\n",
       "      <td>0</td>\n",
       "      <td>7</td>\n",
       "      <td>0</td>\n",
       "      <td>0</td>\n",
       "      <td>(1000 MT)</td>\n",
       "    </tr>\n",
       "  </tbody>\n",
       "</table>\n",
       "<p>5556 rows × 9 columns</p>\n",
       "</div>"
      ],
      "text/plain": [
       "             Attribute       Year     Country Oilseed, Peanut  \\\n",
       "0     Beginning Stocks  2012/2013   Argentina             269   \n",
       "1     Beginning Stocks  2012/2013   Australia               0   \n",
       "2     Beginning Stocks  2012/2013  Bangladesh               0   \n",
       "3     Beginning Stocks  2012/2013    Barbados               0   \n",
       "4     Beginning Stocks  2012/2013     Belarus               0   \n",
       "...                ...        ...         ...             ...   \n",
       "5551     Ending Stocks  2022/2023  Uzbekistan               0   \n",
       "5552     Ending Stocks  2022/2023   Venezuela               0   \n",
       "5553     Ending Stocks  2022/2023     Vietnam              39   \n",
       "5554     Ending Stocks  2022/2023      Zambia               8   \n",
       "5555     Ending Stocks  2022/2023    Zimbabwe               4   \n",
       "\n",
       "     Oilseed, Rapeseed Oilseed, Soybean Oilseed, Soybean (Local)  \\\n",
       "0                    0           14,338                    2,679   \n",
       "1                  572                3                        0   \n",
       "2                  152               30                        0   \n",
       "3                    0                5                        0   \n",
       "4                    0                0                        0   \n",
       "...                ...              ...                      ...   \n",
       "5551                 0                3                        0   \n",
       "5552                 0                2                        0   \n",
       "5553                 0              392                        0   \n",
       "5554                 0               32                        0   \n",
       "5555                 0                7                        0   \n",
       "\n",
       "     Oilseed, Sunflowerseed Unit Description  \n",
       "0                       369        (1000 MT)  \n",
       "1                         0        (1000 MT)  \n",
       "2                         0        (1000 MT)  \n",
       "3                         0        (1000 MT)  \n",
       "4                         0        (1000 MT)  \n",
       "...                     ...              ...  \n",
       "5551                     19        (1000 MT)  \n",
       "5552                      0        (1000 MT)  \n",
       "5553                      0        (1000 MT)  \n",
       "5554                      0        (1000 MT)  \n",
       "5555                      0        (1000 MT)  \n",
       "\n",
       "[5556 rows x 9 columns]"
      ]
     },
     "execution_count": 4,
     "metadata": {},
     "output_type": "execute_result"
    }
   ],
   "source": [
    "df = pd.read_csv(\"global_oilseed_2012-2022.csv\")\n",
    "df"
   ]
  },
  {
   "cell_type": "markdown",
   "metadata": {},
   "source": [
    "Since every oilseed crop is in 1000 metric tons (MT) then this column can be dropped"
   ]
  },
  {
   "cell_type": "code",
   "execution_count": 10,
   "metadata": {},
   "outputs": [
    {
     "data": {
      "text/html": [
       "<div>\n",
       "<style scoped>\n",
       "    .dataframe tbody tr th:only-of-type {\n",
       "        vertical-align: middle;\n",
       "    }\n",
       "\n",
       "    .dataframe tbody tr th {\n",
       "        vertical-align: top;\n",
       "    }\n",
       "\n",
       "    .dataframe thead th {\n",
       "        text-align: right;\n",
       "    }\n",
       "</style>\n",
       "<table border=\"1\" class=\"dataframe\">\n",
       "  <thead>\n",
       "    <tr style=\"text-align: right;\">\n",
       "      <th></th>\n",
       "      <th>Attribute</th>\n",
       "      <th>Year</th>\n",
       "      <th>Country</th>\n",
       "      <th>Oilseed, Peanut</th>\n",
       "      <th>Oilseed, Rapeseed</th>\n",
       "      <th>Oilseed, Soybean</th>\n",
       "      <th>Oilseed, Soybean (Local)</th>\n",
       "      <th>Oilseed, Sunflowerseed</th>\n",
       "    </tr>\n",
       "  </thead>\n",
       "  <tbody>\n",
       "    <tr>\n",
       "      <th>0</th>\n",
       "      <td>Beginning Stocks</td>\n",
       "      <td>2012/2013</td>\n",
       "      <td>Argentina</td>\n",
       "      <td>269</td>\n",
       "      <td>0</td>\n",
       "      <td>14,338</td>\n",
       "      <td>2,679</td>\n",
       "      <td>369</td>\n",
       "    </tr>\n",
       "    <tr>\n",
       "      <th>1</th>\n",
       "      <td>Beginning Stocks</td>\n",
       "      <td>2012/2013</td>\n",
       "      <td>Australia</td>\n",
       "      <td>0</td>\n",
       "      <td>572</td>\n",
       "      <td>3</td>\n",
       "      <td>0</td>\n",
       "      <td>0</td>\n",
       "    </tr>\n",
       "    <tr>\n",
       "      <th>2</th>\n",
       "      <td>Beginning Stocks</td>\n",
       "      <td>2012/2013</td>\n",
       "      <td>Bangladesh</td>\n",
       "      <td>0</td>\n",
       "      <td>152</td>\n",
       "      <td>30</td>\n",
       "      <td>0</td>\n",
       "      <td>0</td>\n",
       "    </tr>\n",
       "    <tr>\n",
       "      <th>3</th>\n",
       "      <td>Beginning Stocks</td>\n",
       "      <td>2012/2013</td>\n",
       "      <td>Barbados</td>\n",
       "      <td>0</td>\n",
       "      <td>0</td>\n",
       "      <td>5</td>\n",
       "      <td>0</td>\n",
       "      <td>0</td>\n",
       "    </tr>\n",
       "    <tr>\n",
       "      <th>4</th>\n",
       "      <td>Beginning Stocks</td>\n",
       "      <td>2012/2013</td>\n",
       "      <td>Belarus</td>\n",
       "      <td>0</td>\n",
       "      <td>0</td>\n",
       "      <td>0</td>\n",
       "      <td>0</td>\n",
       "      <td>0</td>\n",
       "    </tr>\n",
       "  </tbody>\n",
       "</table>\n",
       "</div>"
      ],
      "text/plain": [
       "          Attribute       Year     Country Oilseed, Peanut Oilseed, Rapeseed  \\\n",
       "0  Beginning Stocks  2012/2013   Argentina             269                 0   \n",
       "1  Beginning Stocks  2012/2013   Australia               0               572   \n",
       "2  Beginning Stocks  2012/2013  Bangladesh               0               152   \n",
       "3  Beginning Stocks  2012/2013    Barbados               0                 0   \n",
       "4  Beginning Stocks  2012/2013     Belarus               0                 0   \n",
       "\n",
       "  Oilseed, Soybean Oilseed, Soybean (Local) Oilseed, Sunflowerseed  \n",
       "0           14,338                    2,679                    369  \n",
       "1                3                        0                      0  \n",
       "2               30                        0                      0  \n",
       "3                5                        0                      0  \n",
       "4                0                        0                      0  "
      ]
     },
     "execution_count": 10,
     "metadata": {},
     "output_type": "execute_result"
    }
   ],
   "source": [
    "df = df.drop(columns=\"Unit Description\")\n",
    "df.head()"
   ]
  },
  {
   "cell_type": "markdown",
   "metadata": {},
   "source": [
    "Next we can look at the number of unique values in each column using the nunique function. This shows that there are 6 attributes and 85 countries represented in the dataset, while soybeans are the most frequently used oilseed in the dataset. "
   ]
  },
  {
   "cell_type": "code",
   "execution_count": 11,
   "metadata": {},
   "outputs": [
    {
     "data": {
      "text/plain": [
       "Attribute                      6\n",
       "Year                          11\n",
       "Country                       85\n",
       "Oilseed, Peanut              667\n",
       "Oilseed, Rapeseed            621\n",
       "Oilseed, Soybean            1169\n",
       "Oilseed, Soybean (Local)     111\n",
       "Oilseed, Sunflowerseed       514\n",
       "dtype: int64"
      ]
     },
     "execution_count": 11,
     "metadata": {},
     "output_type": "execute_result"
    }
   ],
   "source": [
    "unique_values = df.nunique(0)\n",
    "unique_values"
   ]
  },
  {
   "cell_type": "markdown",
   "metadata": {},
   "source": [
    "Next we should check to see what data types we have before manipulating the data. Apparently everything is in \"object\" data type, which means it is in string/text type. To use the data properly we need to convert the years to date time and the oilseeds to integers."
   ]
  },
  {
   "cell_type": "code",
   "execution_count": 16,
   "metadata": {},
   "outputs": [
    {
     "data": {
      "text/plain": [
       "Attribute                   object\n",
       "Year                        object\n",
       "Country                     object\n",
       "Oilseed, Peanut             object\n",
       "Oilseed, Rapeseed           object\n",
       "Oilseed, Soybean            object\n",
       "Oilseed, Soybean (Local)    object\n",
       "Oilseed, Sunflowerseed      object\n",
       "dtype: object"
      ]
     },
     "execution_count": 16,
     "metadata": {},
     "output_type": "execute_result"
    }
   ],
   "source": [
    "df.dtypes"
   ]
  },
  {
   "cell_type": "code",
   "execution_count": 18,
   "metadata": {},
   "outputs": [
    {
     "data": {
      "text/plain": [
       "Attribute                   object\n",
       "Year                        object\n",
       "Country                     object\n",
       "Oilseed, Peanut             object\n",
       "Oilseed, Rapeseed           object\n",
       "Oilseed, Soybean            object\n",
       "Oilseed, Soybean (Local)    object\n",
       "Oilseed, Sunflowerseed      object\n",
       "dtype: object"
      ]
     },
     "execution_count": 18,
     "metadata": {},
     "output_type": "execute_result"
    }
   ],
   "source": [
    "df = df.infer_objects()\n",
    "df.dtypes"
   ]
  }
 ],
 "metadata": {
  "kernelspec": {
   "display_name": "Python 3.10.8 64-bit (microsoft store)",
   "language": "python",
   "name": "python3"
  },
  "language_info": {
   "codemirror_mode": {
    "name": "ipython",
    "version": 3
   },
   "file_extension": ".py",
   "mimetype": "text/x-python",
   "name": "python",
   "nbconvert_exporter": "python",
   "pygments_lexer": "ipython3",
   "version": "3.10.8"
  },
  "orig_nbformat": 4,
  "vscode": {
   "interpreter": {
    "hash": "e0acaf148705ed9ed86cc5cad12259d7985e30670e5686e5f55604a9b3b84a55"
   }
  }
 },
 "nbformat": 4,
 "nbformat_minor": 2
}
